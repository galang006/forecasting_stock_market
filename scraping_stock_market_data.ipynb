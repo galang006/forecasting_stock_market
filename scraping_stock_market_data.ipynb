{
  "cells": [
    {
      "cell_type": "code",
      "execution_count": null,
      "metadata": {
        "colab": {
          "base_uri": "https://localhost:8080/"
        },
        "id": "MseVHBMpDFIQ",
        "outputId": "2bfc45c0-f037-4ff5-a05c-2ccac1b0d3d6"
      },
      "outputs": [
        {
          "name": "stdout",
          "output_type": "stream",
          "text": [
            "                                  Open         High          Low        Close  \\\n",
            "Date                                                                            \n",
            "2019-12-26 00:00:00+07:00  3244.019444  3266.037842  3229.340710  3236.680176   \n",
            "2019-12-27 00:00:00+07:00  3214.662194  3258.698597  3214.662194  3251.359131   \n",
            "2019-12-30 00:00:00+07:00  3266.038200  3266.038200  3199.983395  3229.341064   \n",
            "2020-01-02 00:00:00+07:00  3229.340710  3236.680176  3199.983044  3236.680176   \n",
            "2020-01-03 00:00:00+07:00  3244.019531  3258.698463  3222.001330  3244.019531   \n",
            "\n",
            "                             Volume  Dividends  Stock Splits  \n",
            "Date                                                          \n",
            "2019-12-26 00:00:00+07:00  55258354        0.0           0.0  \n",
            "2019-12-27 00:00:00+07:00  62113562        0.0           0.0  \n",
            "2019-12-30 00:00:00+07:00  73085482        0.0           0.0  \n",
            "2020-01-02 00:00:00+07:00  45886302        0.0           0.0  \n",
            "2020-01-03 00:00:00+07:00  91189705        0.0           0.0  \n"
          ]
        }
      ],
      "source": [
        "import yfinance as yf\n",
        "import pandas as pd\n",
        "\n",
        "start_date = \"2019-12-24\"\n",
        "end_date = \"2024-12-24\"\n",
        "\n",
        "hist = yf.Ticker(\"bbri.jk\")\n",
        "df = hist.history(start=start_date, end=end_date, auto_adjust=True)\n",
        "\n",
        "csv_filename = \"bbri_stock_data.csv\"\n",
        "df.to_csv(csv_filename)\n",
        "print(df.head())"
      ]
    }
  ],
  "metadata": {
    "colab": {
      "provenance": []
    },
    "kernelspec": {
      "display_name": "Python 3",
      "name": "python3"
    },
    "language_info": {
      "name": "python"
    }
  },
  "nbformat": 4,
  "nbformat_minor": 0
}
